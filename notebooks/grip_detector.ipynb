{
 "cells": [
  {
   "cell_type": "code",
   "execution_count": null,
   "id": "8d580047",
   "metadata": {},
   "outputs": [
    {
     "ename": "",
     "evalue": "",
     "output_type": "error",
     "traceback": [
      "\u001b[1;31mRunning cells with 'Python 3.9.13 ('tensorflow')' requires ipykernel package.\n",
      "\u001b[1;31mRun the following command to install 'ipykernel' into the Python environment. \n",
      "\u001b[1;31mCommand: 'conda install -n tensorflow ipykernel --update-deps --force-reinstall'"
     ]
    }
   ],
   "source": [
    "import torch \n",
    "import detectron2\n",
    "from detectron2.utils.logger import setup_logger\n",
    "setup_logger()\n",
    "import numpy as np\n",
    "import os, json, cv2, random\n",
    "# from google.colab.patches import cv2_imshow\n",
    "\n",
    "#import some common detectron2 utilities\n",
    "from detectron2 import model_zoo\n",
    "from detectron2.engine import DefaultPredictor, DefaultTrainer\n",
    "from detectron2.config import get_cfg\n",
    "from detectron2.utils.visualizer import Visualizer\n",
    "from detectron2.data import MetadataCatalog, DatasetCatalog\n",
    "from detectron2.utils.visualizer import ColorMode\n"
   ]
  },
  {
   "cell_type": "code",
   "execution_count": 8,
   "id": "91d5ae70",
   "metadata": {},
   "outputs": [
    {
     "data": {
      "text/plain": [
       "'/home/william/code/ar10000/mountain_goat'"
      ]
     },
     "execution_count": 8,
     "metadata": {},
     "output_type": "execute_result"
    }
   ],
   "source": [
    "os.path.dirname(os.getcwd())\n",
    "\n"
   ]
  },
  {
   "cell_type": "code",
   "execution_count": null,
   "id": "10062559",
   "metadata": {},
   "outputs": [],
   "source": [
    "#registering dataset to detectron2\n",
    "from detectron2.data.datasets import register_coco_instances\n",
    "register_coco_instances(\"train\",{}, '/home/william/code/ar10000/mountain_goat/raw_data/train/_annotations.coco.json', \"/home/william/code/ar10000/mountain_goat/raw_data/train\")"
   ]
  },
  {
   "cell_type": "code",
   "execution_count": null,
   "id": "4abdfad1",
   "metadata": {},
   "outputs": [],
   "source": [
    "##Training\n",
    "cfg = get_cfg()\n",
    "cfg.merge_from_file(model_zoo.get_config_file(\"COCO-Detection/faster_rcnn_R_50_FPN_3x.yaml\"))\n",
    "# /Base-RCNN-C4.yaml\n",
    "cfg.DATASETS.TRAIN  = (\"train\",)\n",
    "cfg.DATASETS.TEST  = ()\n",
    "cfg.DATALOADER.NUM_WORKERS = 2\n",
    "cfg.MODEL.DEVICE='cpu'\n",
    "cfg.MODEL.WEIGHTS = model_zoo.get_checkpoint_url(\"COCO-Detection/faster_rcnn_R_50_FPN_3x.yaml\")\n",
    "cfg.SOLVER.IMS_PER_BATCH =2\n",
    "cfg.SOLVER.BASE_LR = 0.00025\n",
    "cfg.SOLVER.MAX_ITER = 1600\n",
    "cfg.SOLVER_STEPS = []\n",
    "cfg.MODEL.ROI_HEADS.BATCH_SIZE_PER_IMAGE = 512\n",
    "cfg.MODEL.ROI_HEADS.NUM_CLASSES = 8\n",
    "os.makedirs(cfg.OUTPUT_DIR, exist_ok=True)\n",
    "trainer = DefaultTrainer(cfg) \n",
    "trainer.resume_or_load(resume=False)\n",
    "trainer.train()"
   ]
  },
  {
   "cell_type": "code",
   "execution_count": null,
   "id": "cdc7e470",
   "metadata": {},
   "outputs": [],
   "source": [
    "cfg.MODEL.WEIGHTS = os.path.join(cfg.OUTPUT_DIR, \"model_final.pth\")  # path to the model we just trained\n",
    "cfg.MODEL.ROI_HEADS.SCORE_THRESH_TEST = 0.7   # set a custom testing threshold\n",
    "predictor = DefaultPredictor(cfg) "
   ]
  },
  {
   "cell_type": "code",
   "execution_count": null,
   "id": "84a6f157",
   "metadata": {},
   "outputs": [],
   "source": [
    "train_metadata = MetadataCatalog.get(\"train\")\n",
    "DatasetCatalog.get(\"train\")"
   ]
  },
  {
   "cell_type": "code",
   "execution_count": null,
   "id": "2febc923",
   "metadata": {},
   "outputs": [],
   "source": [
    "im = cv2.imread('/home/william/code/ar10000/mountain_goat/ArticleImageHandler.jfif')\n",
    "outputs = predictor(im)  \n",
    "v = Visualizer(im[:, :, ::-1],\n",
    "                metadata=train_metadata, \n",
    "                scale=0.5, \n",
    "                instance_mode=ColorMode.IMAGE_BW   # remove the colors of unsegmented pixels. This option is only available for segmentation models\n",
    ")\n",
    "out = v.draw_instance_predictions(outputs[\"instances\"].to(\"cpu\"))"
   ]
  },
  {
   "cell_type": "code",
   "execution_count": null,
   "id": "45bdc6a3",
   "metadata": {},
   "outputs": [],
   "source": [
    "# type(out)"
   ]
  },
  {
   "cell_type": "code",
   "execution_count": null,
   "id": "2cf3e8cf",
   "metadata": {},
   "outputs": [],
   "source": [
    "cv2.imshow('climbnet', out.get_image()[:, :, ::-1])"
   ]
  }
 ],
 "metadata": {
  "kernelspec": {
   "display_name": "Python 3.9.13 ('tensorflow')",
   "language": "python",
   "name": "python3"
  },
  "language_info": {
   "codemirror_mode": {
    "name": "ipython",
    "version": 3
   },
   "file_extension": ".py",
   "mimetype": "text/x-python",
   "name": "python",
   "nbconvert_exporter": "python",
   "pygments_lexer": "ipython3",
   "version": "3.9.13"
  },
  "toc": {
   "base_numbering": 1,
   "nav_menu": {},
   "number_sections": true,
   "sideBar": true,
   "skip_h1_title": false,
   "title_cell": "Table of Contents",
   "title_sidebar": "Contents",
   "toc_cell": false,
   "toc_position": {},
   "toc_section_display": true,
   "toc_window_display": false
  },
  "vscode": {
   "interpreter": {
    "hash": "b2bbb54582bca9b1f3655202651ca902b5f6050e84f64ce40baf7e97bd151ce7"
   }
  }
 },
 "nbformat": 4,
 "nbformat_minor": 5
}
