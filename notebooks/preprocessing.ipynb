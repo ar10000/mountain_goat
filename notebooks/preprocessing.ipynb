{
 "cells": [
  {
   "cell_type": "code",
   "execution_count": 1,
   "id": "b2cdcac2",
   "metadata": {},
   "outputs": [],
   "source": [
    "%load_ext autoreload\n",
    "\n",
    "%autoreload 2"
   ]
  },
  {
   "cell_type": "code",
   "execution_count": 2,
   "id": "190c5c7c",
   "metadata": {},
   "outputs": [],
   "source": [
    "from mountain_goat.preprocessing import create_dataframe"
   ]
  },
  {
   "cell_type": "code",
   "execution_count": 9,
   "id": "471f46e1",
   "metadata": {},
   "outputs": [],
   "source": [
    "from mountain_goat.main import train_next_move"
   ]
  },
  {
   "cell_type": "code",
   "execution_count": 3,
   "id": "bfccef6a",
   "metadata": {},
   "outputs": [
    {
     "name": "stdout",
     "output_type": "stream",
     "text": [
      "Creating dataframe for frame 0 out of 8 of video 0 out of 103\r"
     ]
    },
    {
     "name": "stderr",
     "output_type": "stream",
     "text": [
      "INFO: Created TensorFlow Lite XNNPACK delegate for CPU.\n"
     ]
    },
    {
     "name": "stdout",
     "output_type": "stream",
     "text": [
      "> \u001b[0;32m/home/william/code/ar10000/mountain_goat/mountain_goat/preprocessing.py\u001b[0m(41)\u001b[0;36mcreate_dataframe\u001b[0;34m()\u001b[0m\n",
      "\u001b[0;32m     40 \u001b[0;31m        \u001b[0mframepath_list\u001b[0m\u001b[0;34m=\u001b[0m\u001b[0;34m[\u001b[0m\u001b[0;34m]\u001b[0m\u001b[0;34m\u001b[0m\u001b[0;34m\u001b[0m\u001b[0m\n",
      "\u001b[0m\u001b[0;32m---> 41 \u001b[0;31m        \u001b[0;32mfor\u001b[0m \u001b[0mframe_index\u001b[0m \u001b[0;34m,\u001b[0m \u001b[0mframe\u001b[0m \u001b[0;32min\u001b[0m \u001b[0menumerate\u001b[0m\u001b[0;34m(\u001b[0m\u001b[0msubfolder_vid_paths\u001b[0m\u001b[0;34m)\u001b[0m\u001b[0;34m:\u001b[0m\u001b[0;34m\u001b[0m\u001b[0;34m\u001b[0m\u001b[0m\n",
      "\u001b[0m\u001b[0;32m     42 \u001b[0;31m            \u001b[0;32mtry\u001b[0m\u001b[0;34m:\u001b[0m\u001b[0;34m\u001b[0m\u001b[0;34m\u001b[0m\u001b[0m\n",
      "\u001b[0m\n",
      "Creating dataframe for frame 18 out of 19 of video 102 out of 103\r"
     ]
    }
   ],
   "source": [
    "#importing data\n",
    "list_videos= create_dataframe('/home/william/code/ar10000/mountain_goat/raw_data/mountain_goat_screenshots')"
   ]
  },
  {
   "cell_type": "code",
   "execution_count": 10,
   "id": "3aad72a6",
   "metadata": {},
   "outputs": [
    {
     "name": "stderr",
     "output_type": "stream",
     "text": [
      "2022-09-02 20:45:47.381572: W tensorflow/stream_executor/platform/default/dso_loader.cc:64] Could not load dynamic library 'libcuda.so.1'; dlerror: libcuda.so.1: cannot open shared object file: No such file or directory; LD_LIBRARY_PATH: /home/william/.pyenv/versions/3.8.12/envs/goat_env/lib/python3.8/site-packages/cv2/../../lib64:\n",
      "2022-09-02 20:45:47.381743: W tensorflow/stream_executor/cuda/cuda_driver.cc:269] failed call to cuInit: UNKNOWN ERROR (303)\n",
      "2022-09-02 20:45:47.381778: I tensorflow/stream_executor/cuda/cuda_diagnostics.cc:156] kernel driver does not appear to be running on this host (LAPTOP-QOR5S2U2): /proc/driver/nvidia/version does not exist\n",
      "2022-09-02 20:45:47.382304: I tensorflow/core/platform/cpu_feature_guard.cc:193] This TensorFlow binary is optimized with oneAPI Deep Neural Network Library (oneDNN) to use the following CPU instructions in performance-critical operations:  AVX2 FMA\n",
      "To enable them in other operations, rebuild TensorFlow with the appropriate compiler flags.\n"
     ]
    },
    {
     "name": "stdout",
     "output_type": "stream",
     "text": [
      "\n",
      "✅ model initialized\n",
      "\n",
      "✅ model compiled\n",
      "\u001b[34m\n",
      "Train model...\u001b[0m\n",
      "\n",
      "✅ model trained (72 rows)\n"
     ]
    },
    {
     "data": {
      "image/png": "[encoded data removed]",
      "text/plain": [
       "<Figure size 640x480 with 1 Axes>"
      ]
     },
     "metadata": {},
     "output_type": "display_data"
    }
   ],
   "source": [
    "model = train_next_move()"
   ]
  },
  {
   "cell_type": "code",
   "execution_count": 4,
   "id": "38f23676",
   "metadata": {},
   "outputs": [],
   "source": [
    "import pandas as pd\n",
    "import numpy as np\n",
    "import ipdb\n",
    "import matplotlib.pyplot as plt"
   ]
  },
  {
   "cell_type": "code",
   "execution_count": null,
   "id": "eea3f158",
   "metadata": {},
   "outputs": [],
   "source": [
    "# b=np.array(list_videos)"
   ]
  },
  {
   "cell_type": "code",
   "execution_count": 6,
   "id": "d9c1a3e6",
   "metadata": {},
   "outputs": [],
   "source": [
    "def check_nan_videos(videos:list):\n",
    "    \"\"\"takes in list of dataframes and returns a summary of the videos w.r.t the number of nan values\"\"\"\n",
    "    vid_summary =[]\n",
    "    for df in videos:\n",
    "        num_nans= df['right_hand_x'].isnull().sum(axis=0)\n",
    "        vid_id = df['frame_id'].to_list()[0]\n",
    "        percent= num_nans/len(df)\n",
    "        res= {'vid_id': vid_id, 'num_nans': num_nans, 'percent':percent}\n",
    "        vid_summary.append(res)\n",
    "    return pd.DataFrame(vid_summary)"
   ]
  },
  {
   "cell_type": "code",
   "execution_count": 7,
   "id": "b8af1ea7",
   "metadata": {},
   "outputs": [],
   "source": [
    "b =check_nan_videos(list_videos)"
   ]
  },
  {
   "cell_type": "code",
   "execution_count": 8,
   "id": "878439ca",
   "metadata": {},
   "outputs": [],
   "source": [
    "#removing nan values in videos\n",
    "list_videos_no_nan=[]\n",
    "for df in list_videos:\n",
    "    df.dropna(inplace=True)\n",
    "    list_videos_no_nan.append(df)"
   ]
  },
  {
   "cell_type": "code",
   "execution_count": 9,
   "id": "13cfd18b",
   "metadata": {},
   "outputs": [
    {
     "data": {
      "text/html": [
       "<div>\n",
       "<style scoped>\n",
       "    .dataframe tbody tr th:only-of-type {\n",
       "        vertical-align: middle;\n",
       "    }\n",
       "\n",
       "    .dataframe tbody tr th {\n",
       "        vertical-align: top;\n",
       "    }\n",
       "\n",
       "    .dataframe thead th {\n",
       "        text-align: right;\n",
       "    }\n",
       "</style>\n",
       "<table border=\"1\" class=\"dataframe\">\n",
       "  <thead>\n",
       "    <tr style=\"text-align: right;\">\n",
       "      <th></th>\n",
       "      <th>left_hand_x</th>\n",
       "      <th>left_hand_y</th>\n",
       "      <th>right_hand_x</th>\n",
       "      <th>right_hand_y</th>\n",
       "      <th>left_foot_X</th>\n",
       "      <th>left_foot_y</th>\n",
       "      <th>right_foot_x</th>\n",
       "      <th>right_foot_y</th>\n",
       "      <th>frame_id</th>\n",
       "    </tr>\n",
       "  </thead>\n",
       "  <tbody>\n",
       "    <tr>\n",
       "      <th>0</th>\n",
       "      <td>0.489430</td>\n",
       "      <td>0.612822</td>\n",
       "      <td>0.499963</td>\n",
       "      <td>0.658861</td>\n",
       "      <td>0.491220</td>\n",
       "      <td>0.759732</td>\n",
       "      <td>0.536898</td>\n",
       "      <td>0.982697</td>\n",
       "      <td>Vid6_frame0</td>\n",
       "    </tr>\n",
       "    <tr>\n",
       "      <th>1</th>\n",
       "      <td>0.438768</td>\n",
       "      <td>0.083819</td>\n",
       "      <td>0.534009</td>\n",
       "      <td>0.361121</td>\n",
       "      <td>0.500019</td>\n",
       "      <td>0.753388</td>\n",
       "      <td>0.526962</td>\n",
       "      <td>0.751958</td>\n",
       "      <td>Vid6_frame1</td>\n",
       "    </tr>\n",
       "    <tr>\n",
       "      <th>2</th>\n",
       "      <td>0.444831</td>\n",
       "      <td>0.091734</td>\n",
       "      <td>0.458521</td>\n",
       "      <td>0.119625</td>\n",
       "      <td>0.508628</td>\n",
       "      <td>0.761070</td>\n",
       "      <td>0.510873</td>\n",
       "      <td>0.730575</td>\n",
       "      <td>Vid6_frame2</td>\n",
       "    </tr>\n",
       "  </tbody>\n",
       "</table>\n",
       "</div>"
      ],
      "text/plain": [
       "   left_hand_x  left_hand_y  right_hand_x  right_hand_y  left_foot_X  \\\n",
       "0     0.489430     0.612822      0.499963      0.658861     0.491220   \n",
       "1     0.438768     0.083819      0.534009      0.361121     0.500019   \n",
       "2     0.444831     0.091734      0.458521      0.119625     0.508628   \n",
       "\n",
       "   left_foot_y  right_foot_x  right_foot_y     frame_id  \n",
       "0     0.759732      0.536898      0.982697  Vid6_frame0  \n",
       "1     0.753388      0.526962      0.751958  Vid6_frame1  \n",
       "2     0.761070      0.510873      0.730575  Vid6_frame2  "
      ]
     },
     "execution_count": 9,
     "metadata": {},
     "output_type": "execute_result"
    }
   ],
   "source": [
    "list_videos_no_nan[6]"
   ]
  },
  {
   "cell_type": "code",
   "execution_count": null,
   "id": "deaee628",
   "metadata": {},
   "outputs": [],
   "source": [
    "list_videos_no_nan[1]"
   ]
  },
  {
   "cell_type": "code",
   "execution_count": null,
   "id": "82fe102d",
   "metadata": {},
   "outputs": [],
   "source": [
    "list_videos_no_nan[6]"
   ]
  },
  {
   "cell_type": "code",
   "execution_count": null,
   "id": "3fd3f4ec",
   "metadata": {},
   "outputs": [],
   "source": [
    "list_videos_no_nan[6].iloc[-1:]"
   ]
  },
  {
   "cell_type": "code",
   "execution_count": 10,
   "id": "70696cbb",
   "metadata": {},
   "outputs": [],
   "source": [
    "y = []\n",
    "X = []\n",
    "for df in list_videos_no_nan:\n",
    "    df = df.drop(columns='frame_id', axis=1)\n",
    "    #last_index = len(df)-1\n",
    "    last_frame= df.iloc[-1:]\n",
    "    frames = df[:-1]\n",
    "    y.append(np.array(last_frame))\n",
    "    X.append(np.array(frames))\n",
    "#     print(counter)"
   ]
  },
  {
   "cell_type": "code",
   "execution_count": 11,
   "id": "7005018e",
   "metadata": {},
   "outputs": [],
   "source": [
    "frames_to_plot=[]\n",
    "for vid in X:\n",
    "    frames_to_plot.append(vid.shape[0])"
   ]
  },
  {
   "cell_type": "code",
   "execution_count": 12,
   "id": "c83a65c0",
   "metadata": {},
   "outputs": [
    {
     "data": {
      "image/png": "[encoded data removed]",
      "text/plain": [
       "<Figure size 640x480 with 1 Axes>"
      ]
     },
     "metadata": {},
     "output_type": "display_data"
    }
   ],
   "source": [
    "plt.hist(frames_to_plot);"
   ]
  },
  {
   "cell_type": "code",
   "execution_count": 15,
   "id": "db99e5a5",
   "metadata": {},
   "outputs": [],
   "source": [
    "#padding needs to be done\n",
    "X_pad = pad_sequences(X, dtype='float32', padding='post', value=-1000)"
   ]
  },
  {
   "cell_type": "code",
   "execution_count": 16,
   "id": "32e06cb2",
   "metadata": {},
   "outputs": [
    {
     "data": {
      "text/plain": [
       "(103, 25, 8)"
      ]
     },
     "execution_count": 16,
     "metadata": {},
     "output_type": "execute_result"
    }
   ],
   "source": [
    "X_pad.shape"
   ]
  },
  {
   "cell_type": "code",
   "execution_count": 17,
   "id": "98a5aa21",
   "metadata": {},
   "outputs": [],
   "source": [
    "X_pad_test = X_pad[90:,:,:]\n",
    "X_pad_train= X_pad[:90, :,:]"
   ]
  },
  {
   "cell_type": "code",
   "execution_count": 18,
   "id": "ab1c0a78",
   "metadata": {},
   "outputs": [
    {
     "data": {
      "text/plain": [
       "(90, 25, 8)"
      ]
     },
     "execution_count": 18,
     "metadata": {},
     "output_type": "execute_result"
    }
   ],
   "source": [
    "X_pad_train.shape"
   ]
  },
  {
   "cell_type": "code",
   "execution_count": 14,
   "id": "bc0ddd04",
   "metadata": {},
   "outputs": [
    {
     "name": "stderr",
     "output_type": "stream",
     "text": [
      "2022-09-07 19:13:49.283004: W tensorflow/stream_executor/platform/default/dso_loader.cc:64] Could not load dynamic library 'libcudart.so.11.0'; dlerror: libcudart.so.11.0: cannot open shared object file: No such file or directory; LD_LIBRARY_PATH: /home/william/.pyenv/versions/3.8.12/envs/goat_env/lib/python3.8/site-packages/cv2/../../lib64:\n",
      "2022-09-07 19:13:49.283058: I tensorflow/stream_executor/cuda/cudart_stub.cc:29] Ignore above cudart dlerror if you do not have a GPU set up on your machine.\n"
     ]
    }
   ],
   "source": [
    "from tensorflow.keras import models, layers\n",
    "from tensorflow.keras.preprocessing.sequence import pad_sequences\n"
   ]
  },
  {
   "cell_type": "code",
   "execution_count": 45,
   "id": "bff813d2",
   "metadata": {},
   "outputs": [],
   "source": [
    "# model architecture \n",
    "def initialise():\n",
    "    \"\"\"initialize model\"\"\"\n",
    "    #initialize sequential\n",
    "    model = models.Sequential()\n",
    "    #adding masking layer\n",
    "    model.add(layers.Masking(mask_value=-1000))\n",
    "    #adding rnn layers\n",
    "    model.add(layers.LSTM(units=20, return_sequences=True))\n",
    "    model.add(layers.LSTM(units=5, return_sequences=False))\n",
    "    model.add(layers.Flatten())\n",
    "    #adding dense layers\n",
    "    model.add(layers.Dense(30, activation='relu'))\n",
    "    model.add(layers.Dense(8, activation='linear'))\n",
    "    \n",
    "    return model"
   ]
  },
  {
   "cell_type": "code",
   "execution_count": 34,
   "id": "cedcdf02",
   "metadata": {},
   "outputs": [],
   "source": [
    "def compile_model(model):\n",
    "    \"\"\"compile model\"\"\"\n",
    "    model.compile(loss= 'mse',\n",
    "                  optimizer='adam',\n",
    "                  metrics=[\"mae\"]\n",
    "        )\n",
    "    return model"
   ]
  },
  {
   "cell_type": "code",
   "execution_count": 46,
   "id": "dc3ba4f7",
   "metadata": {},
   "outputs": [],
   "source": [
    "model = initialise()\n",
    "model= compile_model(model)\n"
   ]
  },
  {
   "cell_type": "code",
   "execution_count": 30,
   "id": "fee936c6",
   "metadata": {},
   "outputs": [
    {
     "data": {
      "text/plain": [
       "<keras.engine.sequential.Sequential at 0x7fb2802ca1c0>"
      ]
     },
     "execution_count": 30,
     "metadata": {},
     "output_type": "execute_result"
    }
   ],
   "source": [
    "model"
   ]
  },
  {
   "cell_type": "code",
   "execution_count": 31,
   "id": "2d03ca5f",
   "metadata": {},
   "outputs": [],
   "source": [
    "from tensorflow.keras.callbacks import EarlyStopping\n",
    "es = EarlyStopping(\n",
    "    patience= 20,\n",
    "    restore_best_weights=True\n",
    ")"
   ]
  },
  {
   "cell_type": "code",
   "execution_count": null,
   "id": "4f49e863",
   "metadata": {},
   "outputs": [],
   "source": [
    "# k=np.array(y)\n",
    "k[0]"
   ]
  },
  {
   "cell_type": "code",
   "execution_count": null,
   "id": "774a774c",
   "metadata": {},
   "outputs": [],
   "source": [
    "len(y)"
   ]
  },
  {
   "cell_type": "code",
   "execution_count": 24,
   "id": "3e2fa2f5",
   "metadata": {},
   "outputs": [],
   "source": [
    "new_y = np.vstack(y)\n",
    "    "
   ]
  },
  {
   "cell_type": "code",
   "execution_count": 41,
   "id": "1fa966ab",
   "metadata": {},
   "outputs": [
    {
     "name": "stdout",
     "output_type": "stream",
     "text": [
      "(12, 8)\n"
     ]
    },
    {
     "data": {
      "text/plain": [
       "(90, 8)"
      ]
     },
     "execution_count": 41,
     "metadata": {},
     "output_type": "execute_result"
    }
   ],
   "source": [
    "y_train=new_y[:90, :]\n",
    "y_test= new_y[90:, :]\n",
    "print(y_test.shape)\n",
    "y_train.shape"
   ]
  },
  {
   "cell_type": "code",
   "execution_count": 40,
   "id": "ce40c1da",
   "metadata": {},
   "outputs": [
    {
     "data": {
      "text/plain": [
       "(90, 25, 8)"
      ]
     },
     "execution_count": 40,
     "metadata": {},
     "output_type": "execute_result"
    }
   ],
   "source": [
    "X_pad_train.shape"
   ]
  },
  {
   "cell_type": "code",
   "execution_count": 47,
   "id": "002fb6db",
   "metadata": {},
   "outputs": [
    {
     "name": "stdout",
     "output_type": "stream",
     "text": [
      "Epoch 1/500\n",
      "2/2 [==============================] - 50s 9s/step - loss: 0.2325 - mae: 0.4421 - val_loss: 0.2112 - val_mae: 0.4132\n",
      "Epoch 2/500\n",
      "2/2 [==============================] - 1s 444ms/step - loss: 0.2248 - mae: 0.4339 - val_loss: 0.2027 - val_mae: 0.4032\n",
      "Epoch 3/500\n",
      "2/2 [==============================] - 1s 467ms/step - loss: 0.2166 - mae: 0.4248 - val_loss: 0.1940 - val_mae: 0.3923\n",
      "Epoch 4/500\n",
      "2/2 [==============================] - 1s 428ms/step - loss: 0.2080 - mae: 0.4154 - val_loss: 0.1850 - val_mae: 0.3812\n",
      "Epoch 5/500\n",
      "2/2 [==============================] - 1s 464ms/step - loss: 0.1993 - mae: 0.4056 - val_loss: 0.1760 - val_mae: 0.3700\n",
      "Epoch 6/500\n",
      "2/2 [==============================] - 1s 347ms/step - loss: 0.1899 - mae: 0.3947 - val_loss: 0.1670 - val_mae: 0.3589\n",
      "Epoch 7/500\n",
      "2/2 [==============================] - 1s 401ms/step - loss: 0.1810 - mae: 0.3840 - val_loss: 0.1579 - val_mae: 0.3472\n",
      "Epoch 8/500\n",
      "2/2 [==============================] - 1s 389ms/step - loss: 0.1718 - mae: 0.3727 - val_loss: 0.1485 - val_mae: 0.3356\n",
      "Epoch 9/500\n",
      "2/2 [==============================] - 1s 314ms/step - loss: 0.1622 - mae: 0.3606 - val_loss: 0.1391 - val_mae: 0.3237\n",
      "Epoch 10/500\n",
      "2/2 [==============================] - 0s 303ms/step - loss: 0.1525 - mae: 0.3483 - val_loss: 0.1299 - val_mae: 0.3120\n",
      "Epoch 11/500\n",
      "2/2 [==============================] - 1s 318ms/step - loss: 0.1430 - mae: 0.3356 - val_loss: 0.1208 - val_mae: 0.3002\n",
      "Epoch 12/500\n",
      "2/2 [==============================] - 1s 368ms/step - loss: 0.1331 - mae: 0.3221 - val_loss: 0.1122 - val_mae: 0.2883\n",
      "Epoch 13/500\n",
      "2/2 [==============================] - 1s 358ms/step - loss: 0.1237 - mae: 0.3095 - val_loss: 0.1040 - val_mae: 0.2765\n",
      "Epoch 14/500\n",
      "2/2 [==============================] - 1s 312ms/step - loss: 0.1148 - mae: 0.2966 - val_loss: 0.0965 - val_mae: 0.2654\n",
      "Epoch 15/500\n",
      "2/2 [==============================] - 1s 362ms/step - loss: 0.1061 - mae: 0.2834 - val_loss: 0.0898 - val_mae: 0.2551\n",
      "Epoch 16/500\n",
      "2/2 [==============================] - 1s 360ms/step - loss: 0.0978 - mae: 0.2699 - val_loss: 0.0840 - val_mae: 0.2457\n",
      "Epoch 17/500\n",
      "2/2 [==============================] - 1s 379ms/step - loss: 0.0904 - mae: 0.2571 - val_loss: 0.0792 - val_mae: 0.2379\n",
      "Epoch 18/500\n",
      "2/2 [==============================] - 1s 430ms/step - loss: 0.0838 - mae: 0.2451 - val_loss: 0.0750 - val_mae: 0.2307\n",
      "Epoch 19/500\n",
      "2/2 [==============================] - 1s 378ms/step - loss: 0.0779 - mae: 0.2345 - val_loss: 0.0715 - val_mae: 0.2236\n",
      "Epoch 20/500\n",
      "2/2 [==============================] - 1s 418ms/step - loss: 0.0727 - mae: 0.2245 - val_loss: 0.0683 - val_mae: 0.2169\n",
      "Epoch 21/500\n",
      "2/2 [==============================] - 1s 504ms/step - loss: 0.0680 - mae: 0.2152 - val_loss: 0.0655 - val_mae: 0.2108\n",
      "Epoch 22/500\n",
      "2/2 [==============================] - 1s 432ms/step - loss: 0.0638 - mae: 0.2067 - val_loss: 0.0626 - val_mae: 0.2042\n",
      "Epoch 23/500\n",
      "2/2 [==============================] - 1s 315ms/step - loss: 0.0601 - mae: 0.1985 - val_loss: 0.0598 - val_mae: 0.1984\n",
      "Epoch 24/500\n",
      "2/2 [==============================] - 1s 319ms/step - loss: 0.0566 - mae: 0.1909 - val_loss: 0.0567 - val_mae: 0.1926\n",
      "Epoch 25/500\n",
      "2/2 [==============================] - 1s 330ms/step - loss: 0.0535 - mae: 0.1844 - val_loss: 0.0537 - val_mae: 0.1867\n",
      "Epoch 26/500\n",
      "2/2 [==============================] - 1s 408ms/step - loss: 0.0507 - mae: 0.1788 - val_loss: 0.0507 - val_mae: 0.1811\n",
      "Epoch 27/500\n",
      "2/2 [==============================] - 1s 392ms/step - loss: 0.0481 - mae: 0.1736 - val_loss: 0.0479 - val_mae: 0.1763\n",
      "Epoch 28/500\n",
      "2/2 [==============================] - 1s 391ms/step - loss: 0.0459 - mae: 0.1688 - val_loss: 0.0454 - val_mae: 0.1721\n",
      "Epoch 29/500\n",
      "2/2 [==============================] - 1s 366ms/step - loss: 0.0439 - mae: 0.1648 - val_loss: 0.0431 - val_mae: 0.1684\n",
      "Epoch 30/500\n",
      "2/2 [==============================] - 0s 314ms/step - loss: 0.0423 - mae: 0.1613 - val_loss: 0.0411 - val_mae: 0.1646\n",
      "Epoch 31/500\n",
      "2/2 [==============================] - 1s 363ms/step - loss: 0.0409 - mae: 0.1581 - val_loss: 0.0393 - val_mae: 0.1610\n",
      "Epoch 32/500\n",
      "2/2 [==============================] - 1s 313ms/step - loss: 0.0396 - mae: 0.1551 - val_loss: 0.0377 - val_mae: 0.1578\n",
      "Epoch 33/500\n",
      "2/2 [==============================] - 1s 347ms/step - loss: 0.0385 - mae: 0.1524 - val_loss: 0.0364 - val_mae: 0.1550\n",
      "Epoch 34/500\n",
      "2/2 [==============================] - 0s 308ms/step - loss: 0.0374 - mae: 0.1501 - val_loss: 0.0353 - val_mae: 0.1526\n",
      "Epoch 35/500\n",
      "2/2 [==============================] - 0s 290ms/step - loss: 0.0365 - mae: 0.1480 - val_loss: 0.0344 - val_mae: 0.1503\n",
      "Epoch 36/500\n",
      "2/2 [==============================] - 0s 311ms/step - loss: 0.0356 - mae: 0.1458 - val_loss: 0.0336 - val_mae: 0.1483\n",
      "Epoch 37/500\n",
      "2/2 [==============================] - 1s 405ms/step - loss: 0.0349 - mae: 0.1440 - val_loss: 0.0329 - val_mae: 0.1467\n",
      "Epoch 38/500\n",
      "2/2 [==============================] - 1s 321ms/step - loss: 0.0342 - mae: 0.1422 - val_loss: 0.0323 - val_mae: 0.1451\n",
      "Epoch 39/500\n",
      "2/2 [==============================] - 1s 394ms/step - loss: 0.0335 - mae: 0.1406 - val_loss: 0.0318 - val_mae: 0.1439\n",
      "Epoch 40/500\n",
      "2/2 [==============================] - 1s 380ms/step - loss: 0.0329 - mae: 0.1391 - val_loss: 0.0313 - val_mae: 0.1428\n",
      "Epoch 41/500\n",
      "2/2 [==============================] - 1s 373ms/step - loss: 0.0324 - mae: 0.1380 - val_loss: 0.0311 - val_mae: 0.1423\n",
      "Epoch 42/500\n",
      "2/2 [==============================] - 1s 482ms/step - loss: 0.0319 - mae: 0.1369 - val_loss: 0.0308 - val_mae: 0.1417\n",
      "Epoch 43/500\n",
      "2/2 [==============================] - 1s 437ms/step - loss: 0.0314 - mae: 0.1359 - val_loss: 0.0305 - val_mae: 0.1410\n",
      "Epoch 44/500\n",
      "2/2 [==============================] - 1s 365ms/step - loss: 0.0311 - mae: 0.1352 - val_loss: 0.0302 - val_mae: 0.1404\n",
      "Epoch 45/500\n",
      "2/2 [==============================] - 0s 293ms/step - loss: 0.0307 - mae: 0.1344 - val_loss: 0.0300 - val_mae: 0.1397\n",
      "Epoch 46/500\n",
      "2/2 [==============================] - 1s 362ms/step - loss: 0.0303 - mae: 0.1337 - val_loss: 0.0297 - val_mae: 0.1389\n",
      "Epoch 47/500\n",
      "2/2 [==============================] - 1s 384ms/step - loss: 0.0300 - mae: 0.1330 - val_loss: 0.0294 - val_mae: 0.1383\n",
      "Epoch 48/500\n",
      "2/2 [==============================] - 1s 317ms/step - loss: 0.0297 - mae: 0.1323 - val_loss: 0.0291 - val_mae: 0.1375\n",
      "Epoch 49/500\n",
      "2/2 [==============================] - 1s 323ms/step - loss: 0.0295 - mae: 0.1317 - val_loss: 0.0289 - val_mae: 0.1368\n",
      "Epoch 50/500\n",
      "2/2 [==============================] - 1s 401ms/step - loss: 0.0292 - mae: 0.1310 - val_loss: 0.0286 - val_mae: 0.1360\n",
      "Epoch 51/500\n",
      "2/2 [==============================] - 1s 357ms/step - loss: 0.0289 - mae: 0.1305 - val_loss: 0.0283 - val_mae: 0.1352\n",
      "Epoch 52/500\n",
      "2/2 [==============================] - 1s 365ms/step - loss: 0.0287 - mae: 0.1298 - val_loss: 0.0282 - val_mae: 0.1348\n",
      "Epoch 53/500\n",
      "2/2 [==============================] - 1s 327ms/step - loss: 0.0285 - mae: 0.1294 - val_loss: 0.0280 - val_mae: 0.1344\n",
      "Epoch 54/500\n",
      "2/2 [==============================] - 1s 330ms/step - loss: 0.0282 - mae: 0.1289 - val_loss: 0.0279 - val_mae: 0.1342\n",
      "Epoch 55/500\n",
      "2/2 [==============================] - 1s 373ms/step - loss: 0.0280 - mae: 0.1285 - val_loss: 0.0277 - val_mae: 0.1336\n",
      "Epoch 56/500\n",
      "2/2 [==============================] - 0s 310ms/step - loss: 0.0278 - mae: 0.1281 - val_loss: 0.0276 - val_mae: 0.1334\n",
      "Epoch 57/500\n",
      "2/2 [==============================] - 1s 358ms/step - loss: 0.0276 - mae: 0.1278 - val_loss: 0.0276 - val_mae: 0.1332\n",
      "Epoch 58/500\n",
      "2/2 [==============================] - 0s 293ms/step - loss: 0.0275 - mae: 0.1275 - val_loss: 0.0275 - val_mae: 0.1329\n",
      "Epoch 59/500\n",
      "2/2 [==============================] - 1s 360ms/step - loss: 0.0273 - mae: 0.1271 - val_loss: 0.0273 - val_mae: 0.1326\n",
      "Epoch 60/500\n",
      "2/2 [==============================] - 1s 379ms/step - loss: 0.0271 - mae: 0.1268 - val_loss: 0.0273 - val_mae: 0.1324\n",
      "Epoch 61/500\n",
      "2/2 [==============================] - 1s 385ms/step - loss: 0.0269 - mae: 0.1264 - val_loss: 0.0271 - val_mae: 0.1319\n",
      "Epoch 62/500\n",
      "2/2 [==============================] - 1s 514ms/step - loss: 0.0268 - mae: 0.1260 - val_loss: 0.0270 - val_mae: 0.1315\n",
      "Epoch 63/500\n",
      "2/2 [==============================] - 1s 340ms/step - loss: 0.0266 - mae: 0.1256 - val_loss: 0.0269 - val_mae: 0.1313\n",
      "Epoch 64/500\n",
      "2/2 [==============================] - 1s 389ms/step - loss: 0.0264 - mae: 0.1253 - val_loss: 0.0268 - val_mae: 0.1309\n",
      "Epoch 65/500\n",
      "2/2 [==============================] - 1s 367ms/step - loss: 0.0263 - mae: 0.1250 - val_loss: 0.0267 - val_mae: 0.1305\n",
      "Epoch 66/500\n",
      "2/2 [==============================] - 1s 317ms/step - loss: 0.0262 - mae: 0.1247 - val_loss: 0.0267 - val_mae: 0.1304\n",
      "Epoch 67/500\n",
      "2/2 [==============================] - 1s 421ms/step - loss: 0.0261 - mae: 0.1244 - val_loss: 0.0266 - val_mae: 0.1303\n",
      "Epoch 68/500\n",
      "2/2 [==============================] - 1s 383ms/step - loss: 0.0259 - mae: 0.1241 - val_loss: 0.0266 - val_mae: 0.1300\n",
      "Epoch 69/500\n",
      "2/2 [==============================] - 1s 359ms/step - loss: 0.0258 - mae: 0.1239 - val_loss: 0.0265 - val_mae: 0.1299\n",
      "Epoch 70/500\n",
      "2/2 [==============================] - 1s 400ms/step - loss: 0.0257 - mae: 0.1238 - val_loss: 0.0266 - val_mae: 0.1301\n",
      "Epoch 71/500\n",
      "2/2 [==============================] - 1s 306ms/step - loss: 0.0255 - mae: 0.1235 - val_loss: 0.0265 - val_mae: 0.1300\n",
      "Epoch 72/500\n",
      "2/2 [==============================] - 1s 373ms/step - loss: 0.0254 - mae: 0.1233 - val_loss: 0.0264 - val_mae: 0.1296\n",
      "Epoch 73/500\n",
      "2/2 [==============================] - 1s 344ms/step - loss: 0.0253 - mae: 0.1231 - val_loss: 0.0264 - val_mae: 0.1293\n",
      "Epoch 74/500\n",
      "2/2 [==============================] - 1s 347ms/step - loss: 0.0252 - mae: 0.1228 - val_loss: 0.0262 - val_mae: 0.1289\n",
      "Epoch 75/500\n",
      "2/2 [==============================] - 1s 373ms/step - loss: 0.0251 - mae: 0.1226 - val_loss: 0.0262 - val_mae: 0.1289\n",
      "Epoch 76/500\n",
      "2/2 [==============================] - 1s 359ms/step - loss: 0.0250 - mae: 0.1224 - val_loss: 0.0262 - val_mae: 0.1286\n",
      "Epoch 77/500\n",
      "2/2 [==============================] - 1s 362ms/step - loss: 0.0249 - mae: 0.1222 - val_loss: 0.0262 - val_mae: 0.1287\n",
      "Epoch 78/500\n",
      "2/2 [==============================] - 1s 354ms/step - loss: 0.0248 - mae: 0.1222 - val_loss: 0.0262 - val_mae: 0.1289\n",
      "Epoch 79/500\n",
      "2/2 [==============================] - 1s 382ms/step - loss: 0.0247 - mae: 0.1220 - val_loss: 0.0262 - val_mae: 0.1289\n",
      "Epoch 80/500\n",
      "2/2 [==============================] - 1s 365ms/step - loss: 0.0246 - mae: 0.1218 - val_loss: 0.0262 - val_mae: 0.1288\n",
      "Epoch 81/500\n",
      "2/2 [==============================] - 1s 380ms/step - loss: 0.0245 - mae: 0.1216 - val_loss: 0.0261 - val_mae: 0.1286\n",
      "Epoch 82/500\n",
      "2/2 [==============================] - 1s 309ms/step - loss: 0.0244 - mae: 0.1214 - val_loss: 0.0260 - val_mae: 0.1282\n",
      "Epoch 83/500\n",
      "2/2 [==============================] - 1s 363ms/step - loss: 0.0244 - mae: 0.1212 - val_loss: 0.0260 - val_mae: 0.1279\n",
      "Epoch 84/500\n",
      "2/2 [==============================] - 1s 302ms/step - loss: 0.0243 - mae: 0.1210 - val_loss: 0.0259 - val_mae: 0.1276\n",
      "Epoch 85/500\n",
      "2/2 [==============================] - 1s 373ms/step - loss: 0.0242 - mae: 0.1208 - val_loss: 0.0259 - val_mae: 0.1275\n",
      "Epoch 86/500\n",
      "2/2 [==============================] - 1s 387ms/step - loss: 0.0241 - mae: 0.1207 - val_loss: 0.0259 - val_mae: 0.1278\n",
      "Epoch 87/500\n",
      "2/2 [==============================] - 1s 375ms/step - loss: 0.0240 - mae: 0.1206 - val_loss: 0.0260 - val_mae: 0.1280\n",
      "Epoch 88/500\n",
      "2/2 [==============================] - 1s 319ms/step - loss: 0.0240 - mae: 0.1204 - val_loss: 0.0260 - val_mae: 0.1280\n",
      "Epoch 89/500\n",
      "2/2 [==============================] - 1s 383ms/step - loss: 0.0239 - mae: 0.1203 - val_loss: 0.0259 - val_mae: 0.1278\n",
      "Epoch 90/500\n",
      "2/2 [==============================] - 1s 363ms/step - loss: 0.0238 - mae: 0.1201 - val_loss: 0.0259 - val_mae: 0.1277\n",
      "Epoch 91/500\n",
      "2/2 [==============================] - 1s 397ms/step - loss: 0.0238 - mae: 0.1200 - val_loss: 0.0259 - val_mae: 0.1278\n",
      "Epoch 92/500\n",
      "2/2 [==============================] - 1s 328ms/step - loss: 0.0237 - mae: 0.1199 - val_loss: 0.0259 - val_mae: 0.1277\n",
      "Epoch 93/500\n",
      "2/2 [==============================] - 1s 315ms/step - loss: 0.0236 - mae: 0.1197 - val_loss: 0.0258 - val_mae: 0.1274\n",
      "Epoch 94/500\n",
      "2/2 [==============================] - 1s 496ms/step - loss: 0.0235 - mae: 0.1195 - val_loss: 0.0258 - val_mae: 0.1274\n",
      "Epoch 95/500\n",
      "2/2 [==============================] - 1s 646ms/step - loss: 0.0235 - mae: 0.1194 - val_loss: 0.0258 - val_mae: 0.1273\n",
      "Epoch 96/500\n",
      "2/2 [==============================] - 1s 368ms/step - loss: 0.0234 - mae: 0.1193 - val_loss: 0.0258 - val_mae: 0.1273\n",
      "Epoch 97/500\n",
      "2/2 [==============================] - 0s 289ms/step - loss: 0.0234 - mae: 0.1192 - val_loss: 0.0257 - val_mae: 0.1271\n",
      "Epoch 98/500\n",
      "2/2 [==============================] - 1s 355ms/step - loss: 0.0233 - mae: 0.1190 - val_loss: 0.0257 - val_mae: 0.1270\n",
      "Epoch 99/500\n",
      "2/2 [==============================] - 1s 371ms/step - loss: 0.0233 - mae: 0.1191 - val_loss: 0.0258 - val_mae: 0.1275\n",
      "Epoch 100/500\n",
      "2/2 [==============================] - 1s 393ms/step - loss: 0.0232 - mae: 0.1188 - val_loss: 0.0258 - val_mae: 0.1275\n",
      "Epoch 101/500\n",
      "2/2 [==============================] - 1s 366ms/step - loss: 0.0231 - mae: 0.1188 - val_loss: 0.0258 - val_mae: 0.1276\n",
      "Epoch 102/500\n",
      "2/2 [==============================] - 1s 397ms/step - loss: 0.0231 - mae: 0.1187 - val_loss: 0.0258 - val_mae: 0.1274\n",
      "Epoch 103/500\n",
      "2/2 [==============================] - 1s 357ms/step - loss: 0.0230 - mae: 0.1184 - val_loss: 0.0258 - val_mae: 0.1274\n",
      "Epoch 104/500\n",
      "2/2 [==============================] - 1s 372ms/step - loss: 0.0229 - mae: 0.1183 - val_loss: 0.0257 - val_mae: 0.1271\n",
      "Epoch 105/500\n",
      "2/2 [==============================] - 1s 396ms/step - loss: 0.0229 - mae: 0.1182 - val_loss: 0.0257 - val_mae: 0.1269\n",
      "Epoch 106/500\n",
      "2/2 [==============================] - 1s 339ms/step - loss: 0.0228 - mae: 0.1181 - val_loss: 0.0257 - val_mae: 0.1268\n",
      "Epoch 107/500\n",
      "2/2 [==============================] - 0s 282ms/step - loss: 0.0228 - mae: 0.1180 - val_loss: 0.0257 - val_mae: 0.1269\n",
      "Epoch 108/500\n",
      "2/2 [==============================] - 1s 359ms/step - loss: 0.0227 - mae: 0.1179 - val_loss: 0.0256 - val_mae: 0.1267\n",
      "Epoch 109/500\n",
      "2/2 [==============================] - 1s 381ms/step - loss: 0.0227 - mae: 0.1177 - val_loss: 0.0256 - val_mae: 0.1264\n",
      "Epoch 110/500\n",
      "2/2 [==============================] - 1s 333ms/step - loss: 0.0226 - mae: 0.1175 - val_loss: 0.0255 - val_mae: 0.1263\n",
      "Epoch 111/500\n",
      "2/2 [==============================] - 0s 301ms/step - loss: 0.0226 - mae: 0.1174 - val_loss: 0.0256 - val_mae: 0.1265\n",
      "Epoch 112/500\n",
      "2/2 [==============================] - 1s 402ms/step - loss: 0.0226 - mae: 0.1174 - val_loss: 0.0255 - val_mae: 0.1264\n",
      "Epoch 113/500\n",
      "2/2 [==============================] - 1s 351ms/step - loss: 0.0225 - mae: 0.1173 - val_loss: 0.0256 - val_mae: 0.1267\n",
      "Epoch 114/500\n",
      "2/2 [==============================] - 1s 369ms/step - loss: 0.0225 - mae: 0.1172 - val_loss: 0.0257 - val_mae: 0.1269\n",
      "Epoch 115/500\n",
      "2/2 [==============================] - 1s 347ms/step - loss: 0.0224 - mae: 0.1171 - val_loss: 0.0256 - val_mae: 0.1268\n",
      "Epoch 116/500\n",
      "2/2 [==============================] - 0s 302ms/step - loss: 0.0224 - mae: 0.1170 - val_loss: 0.0257 - val_mae: 0.1269\n",
      "Epoch 117/500\n",
      "2/2 [==============================] - 1s 294ms/step - loss: 0.0223 - mae: 0.1169 - val_loss: 0.0257 - val_mae: 0.1269\n",
      "Epoch 118/500\n",
      "2/2 [==============================] - 1s 348ms/step - loss: 0.0223 - mae: 0.1168 - val_loss: 0.0256 - val_mae: 0.1266\n",
      "Epoch 119/500\n",
      "2/2 [==============================] - 1s 401ms/step - loss: 0.0223 - mae: 0.1167 - val_loss: 0.0256 - val_mae: 0.1266\n",
      "Epoch 120/500\n",
      "2/2 [==============================] - 1s 376ms/step - loss: 0.0222 - mae: 0.1166 - val_loss: 0.0256 - val_mae: 0.1265\n",
      "Epoch 121/500\n",
      "2/2 [==============================] - 1s 394ms/step - loss: 0.0222 - mae: 0.1164 - val_loss: 0.0255 - val_mae: 0.1261\n",
      "Epoch 122/500\n",
      "2/2 [==============================] - 1s 602ms/step - loss: 0.0221 - mae: 0.1163 - val_loss: 0.0254 - val_mae: 0.1259\n",
      "Epoch 123/500\n",
      "2/2 [==============================] - 1s 422ms/step - loss: 0.0221 - mae: 0.1162 - val_loss: 0.0254 - val_mae: 0.1257\n",
      "Epoch 124/500\n",
      "2/2 [==============================] - 0s 284ms/step - loss: 0.0221 - mae: 0.1161 - val_loss: 0.0254 - val_mae: 0.1257\n",
      "Epoch 125/500\n",
      "2/2 [==============================] - 1s 381ms/step - loss: 0.0220 - mae: 0.1160 - val_loss: 0.0255 - val_mae: 0.1260\n",
      "Epoch 126/500\n",
      "2/2 [==============================] - 1s 370ms/step - loss: 0.0220 - mae: 0.1159 - val_loss: 0.0255 - val_mae: 0.1262\n",
      "Epoch 127/500\n",
      "2/2 [==============================] - 1s 360ms/step - loss: 0.0219 - mae: 0.1158 - val_loss: 0.0255 - val_mae: 0.1263\n",
      "Epoch 128/500\n",
      "2/2 [==============================] - 0s 277ms/step - loss: 0.0219 - mae: 0.1158 - val_loss: 0.0256 - val_mae: 0.1266\n",
      "Epoch 129/500\n",
      "2/2 [==============================] - 1s 296ms/step - loss: 0.0219 - mae: 0.1158 - val_loss: 0.0257 - val_mae: 0.1269\n",
      "Epoch 130/500\n",
      "2/2 [==============================] - 1s 369ms/step - loss: 0.0218 - mae: 0.1157 - val_loss: 0.0257 - val_mae: 0.1268\n",
      "Epoch 131/500\n",
      "2/2 [==============================] - 0s 296ms/step - loss: 0.0218 - mae: 0.1156 - val_loss: 0.0256 - val_mae: 0.1265\n",
      "Epoch 132/500\n",
      "2/2 [==============================] - 1s 335ms/step - loss: 0.0218 - mae: 0.1154 - val_loss: 0.0256 - val_mae: 0.1264\n",
      "Epoch 133/500\n",
      "2/2 [==============================] - 1s 340ms/step - loss: 0.0217 - mae: 0.1153 - val_loss: 0.0255 - val_mae: 0.1262\n",
      "Epoch 134/500\n",
      "2/2 [==============================] - 0s 304ms/step - loss: 0.0217 - mae: 0.1152 - val_loss: 0.0255 - val_mae: 0.1262\n",
      "Epoch 135/500\n",
      "2/2 [==============================] - 0s 317ms/step - loss: 0.0217 - mae: 0.1151 - val_loss: 0.0255 - val_mae: 0.1261\n",
      "Epoch 136/500\n",
      "2/2 [==============================] - 1s 328ms/step - loss: 0.0216 - mae: 0.1150 - val_loss: 0.0255 - val_mae: 0.1260\n",
      "Epoch 137/500\n",
      "2/2 [==============================] - 0s 324ms/step - loss: 0.0216 - mae: 0.1149 - val_loss: 0.0254 - val_mae: 0.1257\n",
      "Epoch 138/500\n",
      "2/2 [==============================] - 1s 416ms/step - loss: 0.0216 - mae: 0.1148 - val_loss: 0.0254 - val_mae: 0.1255\n",
      "Epoch 139/500\n",
      "2/2 [==============================] - 1s 359ms/step - loss: 0.0215 - mae: 0.1147 - val_loss: 0.0254 - val_mae: 0.1257\n",
      "Epoch 140/500\n",
      "2/2 [==============================] - 1s 361ms/step - loss: 0.0215 - mae: 0.1146 - val_loss: 0.0255 - val_mae: 0.1258\n",
      "Epoch 141/500\n",
      "2/2 [==============================] - 1s 333ms/step - loss: 0.0215 - mae: 0.1145 - val_loss: 0.0255 - val_mae: 0.1257\n",
      "Epoch 142/500\n",
      "2/2 [==============================] - 0s 309ms/step - loss: 0.0215 - mae: 0.1146 - val_loss: 0.0255 - val_mae: 0.1260\n",
      "Epoch 143/500\n",
      "2/2 [==============================] - 1s 298ms/step - loss: 0.0214 - mae: 0.1144 - val_loss: 0.0255 - val_mae: 0.1259\n",
      "Epoch 144/500\n",
      "2/2 [==============================] - 1s 439ms/step - loss: 0.0214 - mae: 0.1143 - val_loss: 0.0255 - val_mae: 0.1258\n"
     ]
    }
   ],
   "source": [
    "history =model.fit(\n",
    "    X_pad_train,\n",
    "    y_train,\n",
    "    epochs= 500,\n",
    "    validation_split=0.3,\n",
    "    callbacks=[es],\n",
    "    batch_size= 32,\n",
    "    verbose = 1,\n",
    "        )"
   ]
  },
  {
   "cell_type": "code",
   "execution_count": 49,
   "id": "9aaabf09",
   "metadata": {},
   "outputs": [
    {
     "data": {
      "text/plain": [
       "(13, 25, 8)"
      ]
     },
     "execution_count": 49,
     "metadata": {},
     "output_type": "execute_result"
    }
   ],
   "source": [
    "\n",
    "X_pad_test.shape"
   ]
  },
  {
   "cell_type": "code",
   "execution_count": null,
   "id": "10ba4e9e",
   "metadata": {},
   "outputs": [],
   "source": []
  },
  {
   "cell_type": "code",
   "execution_count": null,
   "id": "765f0f44",
   "metadata": {},
   "outputs": [],
   "source": [
    "y_test.shape"
   ]
  },
  {
   "cell_type": "code",
   "execution_count": 48,
   "id": "451fb564",
   "metadata": {},
   "outputs": [
    {
     "name": "stdout",
     "output_type": "stream",
     "text": [
      "1/1 [==============================] - 0s 101ms/step - loss: 0.0221 - mae: 0.1096\n"
     ]
    },
    {
     "data": {
      "text/plain": [
       "[0.022096240893006325, 0.1096249595284462]"
      ]
     },
     "execution_count": 48,
     "metadata": {},
     "output_type": "execute_result"
    }
   ],
   "source": [
    "model.evaluate(X_pad_test[:-1,:,:], y_test)"
   ]
  },
  {
   "cell_type": "code",
   "execution_count": null,
   "id": "1f185271",
   "metadata": {},
   "outputs": [],
   "source": []
  }
 ],
 "metadata": {
  "kernelspec": {
   "display_name": "Python 3 (ipykernel)",
   "language": "python",
   "name": "python3"
  },
  "language_info": {
   "codemirror_mode": {
    "name": "ipython",
    "version": 3
   },
   "file_extension": ".py",
   "mimetype": "text/x-python",
   "name": "python",
   "nbconvert_exporter": "python",
   "pygments_lexer": "ipython3",
   "version": "3.8.12"
  },
  "toc": {
   "base_numbering": 1,
   "nav_menu": {},
   "number_sections": true,
   "sideBar": true,
   "skip_h1_title": false,
   "title_cell": "Table of Contents",
   "title_sidebar": "Contents",
   "toc_cell": false,
   "toc_position": {},
   "toc_section_display": true,
   "toc_window_display": false
  },
  "vscode": {
   "interpreter": {
    "hash": "7b92c64895d3ee711f5d0d3888d1983203af24917d8aa48577bdfc3d10ee4f98"
   }
  }
 },
 "nbformat": 4,
 "nbformat_minor": 5
}
