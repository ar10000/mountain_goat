{
 "cells": [
  {
   "cell_type": "code",
   "execution_count": 8,
   "id": "b2cdcac2",
   "metadata": {},
   "outputs": [
    {
     "name": "stdout",
     "output_type": "stream",
     "text": [
      "The autoreload extension is already loaded. To reload it, use:\n",
      "  %reload_ext autoreload\n"
     ]
    }
   ],
   "source": [
    "%load_ext autoreload\n",
    "\n",
    "%autoreload 2"
   ]
  },
  {
   "cell_type": "code",
   "execution_count": null,
   "id": "190c5c7c",
   "metadata": {},
   "outputs": [],
   "source": [
    "from mountain_goat.preprocessing import create_dataframe"
   ]
  },
  {
   "cell_type": "code",
   "execution_count": 9,
   "id": "471f46e1",
   "metadata": {},
   "outputs": [],
   "source": [
    "from mountain_goat.main import train_next_move"
   ]
  },
  {
   "cell_type": "code",
   "execution_count": null,
   "id": "bfccef6a",
   "metadata": {},
   "outputs": [],
   "source": [
    "#importing data\n",
    "list_videos= create_dataframe('/home/william/code/ar10000/mountain_goat_dataset/screenshots')"
   ]
  },
  {
   "cell_type": "code",
   "execution_count": 10,
   "id": "3aad72a6",
   "metadata": {},
   "outputs": [
    {
     "name": "stderr",
     "output_type": "stream",
     "text": [
      "2022-09-02 20:45:47.381572: W tensorflow/stream_executor/platform/default/dso_loader.cc:64] Could not load dynamic library 'libcuda.so.1'; dlerror: libcuda.so.1: cannot open shared object file: No such file or directory; LD_LIBRARY_PATH: /home/william/.pyenv/versions/3.8.12/envs/goat_env/lib/python3.8/site-packages/cv2/../../lib64:\n",
      "2022-09-02 20:45:47.381743: W tensorflow/stream_executor/cuda/cuda_driver.cc:269] failed call to cuInit: UNKNOWN ERROR (303)\n",
      "2022-09-02 20:45:47.381778: I tensorflow/stream_executor/cuda/cuda_diagnostics.cc:156] kernel driver does not appear to be running on this host (LAPTOP-QOR5S2U2): /proc/driver/nvidia/version does not exist\n",
      "2022-09-02 20:45:47.382304: I tensorflow/core/platform/cpu_feature_guard.cc:193] This TensorFlow binary is optimized with oneAPI Deep Neural Network Library (oneDNN) to use the following CPU instructions in performance-critical operations:  AVX2 FMA\n",
      "To enable them in other operations, rebuild TensorFlow with the appropriate compiler flags.\n"
     ]
    },
    {
     "name": "stdout",
     "output_type": "stream",
     "text": [
      "\n",
      "✅ model initialized\n",
      "\n",
      "✅ model compiled\n",
      "\u001b[34m\n",
      "Train model...\u001b[0m\n",
      "\n",
      "✅ model trained (72 rows)\n"
     ]
    },
    {
     "data": {
      "image/png": "[encoded data removed]",
      "text/plain": [
       "<Figure size 640x480 with 1 Axes>"
      ]
     },
     "metadata": {},
     "output_type": "display_data"
    }
   ],
   "source": [
    "model = train_next_move()"
   ]
  },
  {
   "cell_type": "code",
   "execution_count": null,
   "id": "38f23676",
   "metadata": {},
   "outputs": [],
   "source": [
    "import pandas as pd\n",
    "import numpy as np\n",
    "import ipdb\n",
    "import matplotlib.pyplot as plt"
   ]
  },
  {
   "cell_type": "code",
   "execution_count": null,
   "id": "eea3f158",
   "metadata": {},
   "outputs": [],
   "source": [
    "# b=np.array(list_videos)"
   ]
  },
  {
   "cell_type": "code",
   "execution_count": null,
   "id": "d9c1a3e6",
   "metadata": {},
   "outputs": [],
   "source": [
    "def check_nan_videos(videos:list):\n",
    "    \"\"\"takes in list of dataframes and returns a summary of the videos w.r.t the number of nan values\"\"\"\n",
    "    vid_summary =[]\n",
    "    for df in videos:\n",
    "        num_nans= df['right_hand_x'].isnull().sum(axis=0)\n",
    "        vid_id = df['frame_id'].to_list()[0]\n",
    "        percent= num_nans/len(df)\n",
    "        res= {'vid_id': vid_id, 'num_nans': num_nans, 'percent':percent}\n",
    "        vid_summary.append(res)\n",
    "    return pd.DataFrame(vid_summary)"
   ]
  },
  {
   "cell_type": "code",
   "execution_count": null,
   "id": "b8af1ea7",
   "metadata": {},
   "outputs": [],
   "source": [
    "check_nan_videos(list_videos)"
   ]
  },
  {
   "cell_type": "code",
   "execution_count": null,
   "id": "878439ca",
   "metadata": {},
   "outputs": [],
   "source": [
    "#removing nan values in videos\n",
    "list_videos_no_nan=[]\n",
    "for df in list_videos:\n",
    "    df.dropna(inplace=True)\n",
    "    list_videos_no_nan.append(df)"
   ]
  },
  {
   "cell_type": "code",
   "execution_count": null,
   "id": "13cfd18b",
   "metadata": {},
   "outputs": [],
   "source": [
    "list_videos_no_nan[6]"
   ]
  },
  {
   "cell_type": "code",
   "execution_count": null,
   "id": "deaee628",
   "metadata": {},
   "outputs": [],
   "source": [
    "list_videos_no_nan[1]"
   ]
  },
  {
   "cell_type": "code",
   "execution_count": null,
   "id": "82fe102d",
   "metadata": {},
   "outputs": [],
   "source": [
    "list_videos_no_nan[6]"
   ]
  },
  {
   "cell_type": "code",
   "execution_count": null,
   "id": "3fd3f4ec",
   "metadata": {},
   "outputs": [],
   "source": [
    "list_videos_no_nan[6].iloc[-1:]"
   ]
  },
  {
   "cell_type": "code",
   "execution_count": null,
   "id": "70696cbb",
   "metadata": {},
   "outputs": [],
   "source": [
    "y = []\n",
    "X = []\n",
    "for df in list_videos_no_nan:\n",
    "    df = df.drop(columns='frame_id', axis=1)\n",
    "    #last_index = len(df)-1\n",
    "    last_frame= df.iloc[-1:]\n",
    "    frames = df[:-1]\n",
    "    y.append(np.array(last_frame))\n",
    "    X.append(np.array(frames))\n",
    "#     print(counter)"
   ]
  },
  {
   "cell_type": "code",
   "execution_count": null,
   "id": "7005018e",
   "metadata": {},
   "outputs": [],
   "source": [
    "frames_to_plot=[]\n",
    "for vid in X:\n",
    "    frames_to_plot.append(vid.shape[0])"
   ]
  },
  {
   "cell_type": "code",
   "execution_count": null,
   "id": "c83a65c0",
   "metadata": {},
   "outputs": [],
   "source": [
    "plt.hist(frames_to_plot);"
   ]
  },
  {
   "cell_type": "code",
   "execution_count": null,
   "id": "db99e5a5",
   "metadata": {},
   "outputs": [],
   "source": [
    "#padding needs to be done\n",
    "X_pad = pad_sequences(X, dtype='float32', padding='post', value=-1000)"
   ]
  },
  {
   "cell_type": "code",
   "execution_count": null,
   "id": "32e06cb2",
   "metadata": {},
   "outputs": [],
   "source": [
    "X_pad.shape"
   ]
  },
  {
   "cell_type": "code",
   "execution_count": null,
   "id": "98a5aa21",
   "metadata": {},
   "outputs": [],
   "source": [
    "X_pad_test = X_pad[90:,:,:]\n",
    "X_pad_train= X_pad[:90, :,:]"
   ]
  },
  {
   "cell_type": "code",
   "execution_count": null,
   "id": "ab1c0a78",
   "metadata": {},
   "outputs": [],
   "source": [
    "X_pad_train.shape"
   ]
  },
  {
   "cell_type": "code",
   "execution_count": null,
   "id": "bc0ddd04",
   "metadata": {},
   "outputs": [],
   "source": [
    "from tensorflow.keras import models, layers\n",
    "from tensorflow.keras.preprocessing.sequence import pad_sequences\n"
   ]
  },
  {
   "cell_type": "code",
   "execution_count": null,
   "id": "bff813d2",
   "metadata": {},
   "outputs": [],
   "source": [
    "# model architecture \n",
    "def initialise():\n",
    "    \"\"\"initialize model\"\"\"\n",
    "    #initialize sequential\n",
    "    model = models.Sequential()\n",
    "    #adding masking layer\n",
    "    model.add(layers.Masking(mask_value=-1000))\n",
    "    #adding rnn layers\n",
    "    model.add(layers.LSTM(units=20, return_sequences=True, input_shape=(21, 16)))\n",
    "    model.add(layers.LSTM(units=5, return_sequences=False))\n",
    "    #adding dense layers\n",
    "    model.add(layers.Dense(30, activation='relu'))\n",
    "    model.add(layers.Dense(16, activation='linear'))\n",
    "    \n",
    "    return model"
   ]
  },
  {
   "cell_type": "code",
   "execution_count": null,
   "id": "cedcdf02",
   "metadata": {},
   "outputs": [],
   "source": [
    "def compile_model(model):\n",
    "    \"\"\"compile model\"\"\"\n",
    "    model.compile(loss= 'mse',\n",
    "                  optimizer='adam',\n",
    "                  metrics=[\"mae\"]\n",
    "        )\n",
    "    return model"
   ]
  },
  {
   "cell_type": "code",
   "execution_count": null,
   "id": "dc3ba4f7",
   "metadata": {},
   "outputs": [],
   "source": [
    "model = initialise()\n",
    "model= compile_model(model)\n"
   ]
  },
  {
   "cell_type": "code",
   "execution_count": null,
   "id": "fee936c6",
   "metadata": {},
   "outputs": [],
   "source": [
    "model"
   ]
  },
  {
   "cell_type": "code",
   "execution_count": null,
   "id": "2d03ca5f",
   "metadata": {},
   "outputs": [],
   "source": [
    "from tensorflow.keras.callbacks import EarlyStopping\n",
    "es = EarlyStopping(\n",
    "    patience= 20,\n",
    "    restore_best_weights=True\n",
    ")"
   ]
  },
  {
   "cell_type": "code",
   "execution_count": null,
   "id": "4f49e863",
   "metadata": {},
   "outputs": [],
   "source": [
    "# k=np.array(y)\n",
    "k[0]"
   ]
  },
  {
   "cell_type": "code",
   "execution_count": null,
   "id": "774a774c",
   "metadata": {},
   "outputs": [],
   "source": [
    "len(y)"
   ]
  },
  {
   "cell_type": "code",
   "execution_count": null,
   "id": "3e2fa2f5",
   "metadata": {},
   "outputs": [],
   "source": [
    "new_y = np.vstack(y)\n",
    "    "
   ]
  },
  {
   "cell_type": "code",
   "execution_count": null,
   "id": "1fa966ab",
   "metadata": {},
   "outputs": [],
   "source": [
    "y_train=new_y[:90, :]\n",
    "y_test= new_y[90:, :]\n",
    "print(y_test.shape)\n",
    "y_train.shape"
   ]
  },
  {
   "cell_type": "code",
   "execution_count": null,
   "id": "ce40c1da",
   "metadata": {},
   "outputs": [],
   "source": [
    "X_pad_train.shape"
   ]
  },
  {
   "cell_type": "code",
   "execution_count": null,
   "id": "002fb6db",
   "metadata": {},
   "outputs": [],
   "source": [
    "history =model.fit(\n",
    "    X_pad_train,\n",
    "    y_train,\n",
    "    epochs= 500,\n",
    "    validation_split=0.3,\n",
    "    callbacks=[es],\n",
    "    batch_size= 32,\n",
    "    verbose = 1,\n",
    "        )"
   ]
  },
  {
   "cell_type": "code",
   "execution_count": null,
   "id": "9aaabf09",
   "metadata": {},
   "outputs": [],
   "source": [
    "\n",
    "X_pad_test.shape"
   ]
  },
  {
   "cell_type": "code",
   "execution_count": null,
   "id": "10ba4e9e",
   "metadata": {},
   "outputs": [],
   "source": []
  },
  {
   "cell_type": "code",
   "execution_count": null,
   "id": "765f0f44",
   "metadata": {},
   "outputs": [],
   "source": [
    "y_test.shape"
   ]
  },
  {
   "cell_type": "code",
   "execution_count": null,
   "id": "451fb564",
   "metadata": {},
   "outputs": [],
   "source": [
    "model.evaluate(X_pad_test[:-1,:,:], y_test)"
   ]
  },
  {
   "cell_type": "code",
   "execution_count": null,
   "id": "1f185271",
   "metadata": {},
   "outputs": [],
   "source": []
  }
 ],
 "metadata": {
  "kernelspec": {
   "display_name": "Python 3 (ipykernel)",
   "language": "python",
   "name": "python3"
  },
  "language_info": {
   "codemirror_mode": {
    "name": "ipython",
    "version": 3
   },
   "file_extension": ".py",
   "mimetype": "text/x-python",
   "name": "python",
   "nbconvert_exporter": "python",
   "pygments_lexer": "ipython3",
   "version": "3.8.12"
  },
  "toc": {
   "base_numbering": 1,
   "nav_menu": {},
   "number_sections": true,
   "sideBar": true,
   "skip_h1_title": false,
   "title_cell": "Table of Contents",
   "title_sidebar": "Contents",
   "toc_cell": false,
   "toc_position": {},
   "toc_section_display": true,
   "toc_window_display": false
  },
  "vscode": {
   "interpreter": {
    "hash": "7b92c64895d3ee711f5d0d3888d1983203af24917d8aa48577bdfc3d10ee4f98"
   }
  }
 },
 "nbformat": 4,
 "nbformat_minor": 5
}
